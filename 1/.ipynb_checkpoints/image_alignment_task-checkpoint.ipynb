{
 "cells": [
  {
   "cell_type": "markdown",
   "metadata": {},
   "source": [
    "# Image alignment\n",
    "\n",
    "In this task, you will have to solve two image alignment problems: channel processing and face alignment. You can get **10 points** implementing all the passed functions (7.5 for the first part and 2.5 for the second one)."
   ]
  },
  {
   "cell_type": "markdown",
   "metadata": {},
   "source": [
    "# Image channels processing and alignment (7.5 points)\n",
    "\n",
    "## Problem review\n",
    "\n",
    "Sergey Prokudin-Gorsky was the first color photographer in Russia, who made the color portrait of Leo Tolstoy. Each of his photographs is three black-and-white photo plates, corresponding to red, green, and blue color channels. Currently, the collection of his pictures is situated in the U.S. Library of Congress, the altered versions have proliferated online. In this task, you should make a programme which will align the images from the Prokudin-Gorsky plates and learn the basic image processing methods.\n",
    "\n",
    "*The input image and the result of the alignment:*\n",
    "<img src=\"http://cdn1.savepice.ru/uploads/2017/7/31/8e68237bfd49026d137f59283db18b29-full.png\">"
   ]
  },
  {
   "cell_type": "code",
   "execution_count": 1,
   "metadata": {},
   "outputs": [
    {
     "name": "stdout",
     "output_type": "stream",
     "text": [
      "Populating the interactive namespace from numpy and matplotlib\n"
     ]
    }
   ],
   "source": [
    "%pylab inline\n",
    "import matplotlib.pyplot as plt \n",
    "import numpy as np"
   ]
  },
  {
   "cell_type": "markdown",
   "metadata": {},
   "source": [
    "## Problem description\n",
    "\n",
    "#### Input image loading\n",
    "\n",
    "The input image is the set of 3 plates, corresponding to B, G, and R channels (top-down). You should implement the function $\\tt{load}$\\_$\\tt{data}$ that reads the data and returns the list of images of plates.\n",
    "$\\tt{dir}$\\_$\\tt{name}$ is the path to the directory with plate images. If this directory is located in the same directory as this notebook, then default arguments can be used."
   ]
  },
  {
   "cell_type": "code",
   "execution_count": 2,
   "metadata": {},
   "outputs": [
    {
     "ename": "ImportError",
     "evalue": "No module named 'cv2'",
     "output_type": "error",
     "traceback": [
      "\u001b[0;31m---------------------------------------------------------------------------\u001b[0m",
      "\u001b[0;31mImportError\u001b[0m                               Traceback (most recent call last)",
      "\u001b[0;32m<ipython-input-2-d1a8d7055eb4>\u001b[0m in \u001b[0;36m<module>\u001b[0;34m()\u001b[0m\n\u001b[1;32m      1\u001b[0m \u001b[0;32mimport\u001b[0m \u001b[0mos\u001b[0m\u001b[0;34m\u001b[0m\u001b[0m\n\u001b[0;32m----> 2\u001b[0;31m \u001b[0;32mimport\u001b[0m \u001b[0mcv2\u001b[0m\u001b[0;34m\u001b[0m\u001b[0m\n\u001b[0m\u001b[1;32m      3\u001b[0m \u001b[0;32mimport\u001b[0m \u001b[0mskimage\u001b[0m\u001b[0;34m\u001b[0m\u001b[0m\n\u001b[1;32m      4\u001b[0m \u001b[0;32mfrom\u001b[0m \u001b[0mos\u001b[0m \u001b[0;32mimport\u001b[0m \u001b[0mlistdir\u001b[0m\u001b[0;34m\u001b[0m\u001b[0m\n\u001b[1;32m      5\u001b[0m \u001b[0;34m\u001b[0m\u001b[0m\n",
      "\u001b[0;31mImportError\u001b[0m: No module named 'cv2'"
     ]
    }
   ],
   "source": [
    "import os\n",
    "import cv2\n",
    "import skimage\n",
    "from os import listdir\n",
    "\n",
    "def load_data(dir_name = 'plates'):\n",
    "    images = []\n",
    "    \n",
    "    for img in listdir(dir_name):\n",
    "        images.append(cv2.imread(os.path.join(dir_name, img), 0))\n",
    "    return images    \n",
    "\n",
    "plates = load_data()"
   ]
  },
  {
   "cell_type": "markdown",
   "metadata": {},
   "source": [
    "The dataset is a list of 2-dimensional arrays."
   ]
  },
  {
   "cell_type": "code",
   "execution_count": null,
   "metadata": {
    "scrolled": false
   },
   "outputs": [],
   "source": [
    "# The auxiliary function `visualize()` displays the images given as argument.\n",
    "def visualize(imgs, format=None):\n",
    "    plt.figure(figsize=(20, 40))\n",
    "    for i, img in enumerate(imgs):\n",
    "        if img.shape[0] == 3:\n",
    "            img = img.transpose(1,2,0)\n",
    "        plt_idx = i+1\n",
    "        plt.subplot(3, 3, plt_idx)    \n",
    "        plt.imshow(img, cmap=format)\n",
    "    plt.show()\n",
    "\n",
    "visualize(plates, 'gray')"
   ]
  },
  {
   "cell_type": "markdown",
   "metadata": {},
   "source": [
    "#### The borders removal (1.5 points)\n",
    "It is worth noting that there is a framing from all sides in most of the images. This framing can appreciably worsen the quality of channels alignment. Here, we suggest that you find the borders on the plates using Canny edge detector, and crop the images according to these edges. The example of using Canny detector implemented in skimage library can be found [here](http://scikit-image.org/docs/dev/auto_examples/edges/plot_canny.html).<br>\n",
    "\n",
    "The borders can be removed in the following way:\n",
    "* Apply Canny edge detector to the image.\n",
    "* Find the rows and columns of the frame pixels. \n",
    "For example, in case of upper bound we will search for the row in the neighborhood of the upper edge of the image (e.g. 5% of its height). For each row let us count the number of edge pixels (obtained using Canny detector) it contains. Having these number let us find two maximums among them. Two rows corresponding to these maximums are edge rows. As there are two color changes in the frame (firstly, from light scanner background to the dark tape and then from the tape to the image), we need the second maximum that is further from the image border. The row corresponding to this maximum is the crop border. In order not to find two neighboring peaks, non-maximum suppression should be implemented: the rows next to the first maximum are set to zero, and after that, the second maximum is searched for."
   ]
  },
  {
   "cell_type": "markdown",
   "metadata": {},
   "source": [
    "#### Canny detector implementation (2.5 points)\n",
    "You can write your own implementation of Canny edge detector to get extra points. <br>\n",
    "\n",
    "Canny detection algorithm:\n",
    "1. *Noise reduction.* To remove noise, the image is smoothed by Gaussian blur with the kernel of size $5 \\times 5$ and $\\sigma = 1.4$. Since the sum of the elements in the Gaussian kernel equals $1$, the kernel should be normalized before the convolution. <br><br>\n",
    "\n",
    "2. *Calculating gradients.* When the image $I$ is smoothed, the derivatives $I_x$ and $I_y$ w.r.t. $x$ and $y$ are calculated. It can be implemented by convolving $I$ with Sobel kernels $K_x$ and $K_y$, respectively: \n",
    "$$ K_x = \\begin{pmatrix} -1 & 0 & 1 \\\\ -2 & 0 & 2 \\\\ -1 & 0 & 1 \\end{pmatrix}, K_y = \\begin{pmatrix} 1 & 2 & 1 \\\\ 0 & 0 & 0 \\\\ -1 & -2 & -1 \\end{pmatrix}. $$ \n",
    "Then, the magnitude $G$ and the slope $\\theta$ of the gradient are calculated:\n",
    "$$ |G| = \\sqrt{I_x^2 + I_y^2}, $$\n",
    "$$ \\theta(x,y) = arctan\\left(\\frac{I_y}{I_x}\\right)$$<br><br>\n",
    "\n",
    "3. *Non-maximum suppression.* For each pixel find two neighbors (in the positive and negative gradient directions, supposing that each neighbor occupies the angle of $\\pi /4$, and $0$ is the direction straight to the right). If the magnitude of the current pixel is greater than the magnitudes of the neighbors, nothing changes, otherwise, the magnitude of the current pixel is set to zero.<br><br>\n",
    "\n",
    "4. *Double threshold.* The gradient magnitudes are compared with two specified threshold values, the first one is less than the second. The gradients that are smaller than the low threshold value are suppressed; the gradients higher than the high threshold value are marked as strong ones and the corresponding pixels are included in the final edge map. All the rest gradients are marked as weak ones and pixels corresponding to these gradients are considered in the next step.<br><br>\n",
    "\n",
    "5. *Edge tracking by hysteresis.* Since a weak edge pixel caused from true edges will be connected to a strong edge pixel, pixel $w$ with weak gradient is marked as edge and included in the final edge map if and only if it is involved in the same blob (connected component) as some pixel $s$ with strong gradient. In other words, there should be a chain of neighbor weak pixels connecting $w$ and $s$ (the neighbors are 8 pixels around the considered one). You are welcome to make up and implement an algorithm that finds all the connected components of the gradient map considering each pixel only once.  After that, you can decide which pixels will be included in the final edge map (this algorithm should be single-pass, as well)."
   ]
  },
  {
   "cell_type": "code",
   "execution_count": null,
   "metadata": {},
   "outputs": [],
   "source": [
    "#################################################################\n",
    "# TODO: implement Canny detector yourself.                      #\n",
    "#       You can use methods from scipy.ndimage if you need.     #\n",
    "#################################################################\n",
    "from  skimage.feature import canny\n",
    "\n",
    "def Canny_detector(img):\n",
    "    \"\"\" Your implementation instead of skimage \"\"\"    \n",
    "#     return cv2.GaussianBlur(img, (5, 5), 1.4)                    \n",
    "    \n",
    "    return canny(img)\n",
    "\n",
    "\n",
    "canny_imgs = []\n",
    "for img in plates:\n",
    "    canny_img = Canny_detector(img)\n",
    "    canny_imgs.append(canny_img)\n",
    "    \n",
    "visualize(canny_imgs, 'gray')"
   ]
  },
  {
   "cell_type": "code",
   "execution_count": null,
   "metadata": {
    "scrolled": false
   },
   "outputs": [],
   "source": [
    "#################################################################\n",
    "# TODO: Implement the removal of the tape borders using         #\n",
    "#       the output of Canny edge detector (\"canny_img\" list)    #\n",
    "#################################################################\n",
    "\n",
    "def remove_borders(img, canny_img):\n",
    "    \"\"\" Your implementation instead of the following one\"\"\"   \n",
    "    sum_rows = np.sum(canny_img, axis=1)    \n",
    "    size = sum_rows.shape[0]\n",
    "    cut = int(0.2 * size)\n",
    "    \n",
    "    lowi = np.argmax(sum_rows[:cut])    \n",
    "    uppi = size + np.argmax(sum_rows[-cut:]) - cut\n",
    "    \n",
    "    sum_cols = np.sum(canny_img, axis=0)    \n",
    "    size = sum_cols.shape[0]\n",
    "    cut = int(0.2 * size)\n",
    "    \n",
    "    lowj = np.argmax(sum_cols[:cut])    \n",
    "    uppj = size + np.argmax(sum_cols[-cut:]) - cut\n",
    "\n",
    "    return img[lowi : uppi, lowj : uppj]\n",
    "\n",
    "\n",
    "cropped_imgs = []\n",
    "#crop borders\n",
    "for i, img in enumerate(plates):\n",
    "    cropped_imgs.append(remove_borders(img, canny_imgs[i]))\n",
    "\n",
    "visualize(cropped_imgs, 'gray')"
   ]
  },
  {
   "cell_type": "markdown",
   "metadata": {},
   "source": [
    "#### Channels separation  (0.5 points)\n",
    "\n",
    "The next step is to separate the image into three channels (B, G, R) and make one colored picture. To get channels, you can divide each plate into three equal parts."
   ]
  },
  {
   "cell_type": "code",
   "execution_count": null,
   "metadata": {},
   "outputs": [],
   "source": [
    "#################################################################\n",
    "# TODO: implement the function impose_components transforming   #\n",
    "#       cropped black-and-white images cropped_imgs             #\n",
    "#       into the list of RGB images rgb_imgs                    #\n",
    "#################################################################\n",
    "def impose_components(img):\n",
    "    size = img.shape[0]\n",
    "    thres = np.int(size / 3)\n",
    "    \n",
    "    r = img[:thres, :]\n",
    "    g = img[thres:2* thres, ]\n",
    "    b = img[2*thres:3*thres]\n",
    "\n",
    "    return np.dstack((b, g, r))\n",
    "    \n",
    "    \n",
    "\n",
    "rgb_imgs = []\n",
    "for cropped_img in cropped_imgs:\n",
    "    rgb_img = impose_components(cropped_img)\n",
    "    rgb_imgs.append(rgb_img)\n",
    "\n",
    "visualize(rgb_imgs)"
   ]
  },
  {
   "cell_type": "markdown",
   "metadata": {},
   "source": [
    "#### Search for the best shift for channel alignment (1 point for metrics implementation + 2 points for channel alignment)\n",
    "\n",
    "In order to align two images, we will shift one image relative to another within some limits (e.g. from $-15$ to $15$ pixels). For each shift, we can calculate some metrics in the overlap of the images. Depending on the metrics, the best shift is the one the metrics achieves the greatest or the smallest value for. We suggest that you implement two metrics and choose the one that allows to obtain the better alignment quality:\n",
    "\n",
    "* *Mean squared error (MSE):*<br><br>\n",
    "$$ MSE(I_1, I_2) = \\dfrac{1}{w * h}\\sum_{x,y}(I_1(x,y)-I_2(x,y))^2, $$<br> where *w, h* are width and height of the images, respectively. To find the optimal shift you should find the minimum MSE over all the shift values.\n",
    "    <br><br>\n",
    "* *Normalized cross-correlation (CC):*<br><br>\n",
    "    $$\n",
    "    I_1 \\ast I_2 = \\dfrac{\\sum_{x,y}I_1(x,y)I_2(x,y)}{\\sum_{x,y}I_1(x,y)\\sum_{x,y}I_2(x,y)}.\n",
    "    $$<br>\n",
    "    To find the optimal shift you should find the maximum CC over all the shift values."
   ]
  },
  {
   "cell_type": "code",
   "execution_count": null,
   "metadata": {},
   "outputs": [],
   "source": [
    "#################################################################\n",
    "# TODO: implement the functions mse и cor calculating           #\n",
    "#       mean squared error and normalized cross-correlation     #\n",
    "#       for two input images, respectively (1 point)            #\n",
    "#################################################################\n",
    "def mse(X, Y):\n",
    "    \"\"\" Your implementation \"\"\"     \n",
    "    pass\n",
    "\n",
    "def cor(X, Y):\n",
    "    \"\"\" Your implementation \"\"\"     \n",
    "    pass"
   ]
  },
  {
   "cell_type": "code",
   "execution_count": null,
   "metadata": {
    "scrolled": false
   },
   "outputs": [],
   "source": [
    "#################################################################\n",
    "# TODO: implement the algorithm to find the best channel        #\n",
    "#       shift and the alignment. Apply this algorithm for       #\n",
    "#       rgb_imgs processing and get the final list of colored   #\n",
    "#       pictures. These images will be used for the evaluation  #\n",
    "#       of the quality of the whole algorithm.  (2 points)      #\n",
    "#                                                               #\n",
    "#       You can use the following interface or write your own.  #\n",
    "#################################################################\n",
    "\n",
    "def get_best_shift(channel1, channel2):\n",
    "    \"\"\" Your implementation \"\"\"     \n",
    "    pass\n",
    "\n",
    "\n",
    "def get_best_image(rgb_img):\n",
    "    \"\"\" Your implementation \"\"\"     \n",
    "    pass\n",
    "\n",
    "\n",
    "\n",
    "final_imgs = []\n",
    "for img in rgb_imgs:\n",
    "    final_img = get_best_image(img)\n",
    "    final_imgs.append(final_img)\n",
    "\n",
    "visualize(final_imgs)"
   ]
  },
  {
   "cell_type": "code",
   "execution_count": null,
   "metadata": {},
   "outputs": [],
   "source": []
  },
  {
   "cell_type": "markdown",
   "metadata": {},
   "source": [
    "# Face Alignment (2.5 points)\n",
    "\n",
    "In this task, you have to implement face normalization and alignment. Most of the face images deceptively seem to be aligned, but since many face recognition algorithms are very sensitive to shifts and rotations, we need not only to find a face on the image but also normalize it. Besides, the neural networks usually used for recognition have fixed input size, so, the normalized face images should be resized as well."
   ]
  },
  {
   "cell_type": "markdown",
   "metadata": {},
   "source": [
    "There are six images of faces you have to normalize. In addition, you have the coordinates of the eyes in each of the pictures. You have to rotate the image so that the eyes are on the same height, crop the square box containing the face and transform it to the size $224\\times 224.$ The eyes should be located symmetrically and in the middle of the image (on the height)."
   ]
  },
  {
   "cell_type": "markdown",
   "metadata": {},
   "source": [
    "Here is an example of how the transformation should look like.\n",
    "\n",
    "<img src = \"https://cdn1.savepice.ru/uploads/2017/12/13/286e475ef7a4f4e59005bcf7de78742f-full.jpg\">"
   ]
  },
  {
   "cell_type": "markdown",
   "metadata": {},
   "source": [
    "#### Get data\n",
    "You get the images and corresponding eyes coordinates for each person. You should implement the  function $\\tt{load}$\\_$\\tt{faces}$\\_$\\tt{and}$\\_$\\tt{eyes}$ that reads the data and returns two dictionaries: the dictionary of images and the dictionary of eyes coordinates. Eyes coordinates is a list of two tuples $[(x_1,y_1),(x_2,y_2)]$.\n",
    "Both dictionaries should have filenames as the keys.\n",
    "\n",
    "$\\tt{dir}$\\_$\\tt{name}$ is the path to the directory with face images, $\\tt{eye}$\\_$\\tt{path}$ is the path to .pickle file with eyes coordinates. If these directory and file are located in the same directory as this notebook, then default arguments can be used."
   ]
  },
  {
   "cell_type": "code",
   "execution_count": null,
   "metadata": {},
   "outputs": [],
   "source": [
    "def load_faces_and_eyes(dir_name = 'faces_imgs', eye_path = './eyes.pickle'):\n",
    "    \"\"\" Your implementation \"\"\"     \n",
    "    pass\n",
    "    \n",
    "    \n",
    "faces, eyes = load_faces_and_eyes()"
   ]
  },
  {
   "cell_type": "markdown",
   "metadata": {},
   "source": [
    "Here is how the input images look like:"
   ]
  },
  {
   "cell_type": "code",
   "execution_count": null,
   "metadata": {},
   "outputs": [],
   "source": [
    "visualize(faces.values())"
   ]
  },
  {
   "cell_type": "markdown",
   "metadata": {
    "collapsed": true
   },
   "source": [
    "You may make the transformation using your own algorithm or by the following steps:\n",
    "1. Find the angle between the segment connecting two eyes and horizontal line;\n",
    "2. Rotate the image;\n",
    "3. Find the coordinates of the eyes on the rotated image\n",
    "4. Find the width and height of the box containing the face depending on the eyes coordinates\n",
    "5. Crop the box and resize it to $224\\times224$"
   ]
  },
  {
   "cell_type": "code",
   "execution_count": null,
   "metadata": {},
   "outputs": [],
   "source": [
    "#################################################################\n",
    "# TODO: implement the function transform_face that rotates      #\n",
    "#       the image so that the eyes have equal ordinate,         #\n",
    "#       crops the square box containing face and resizes it.    #\n",
    "#       You can use methods from skimage library if you need.   #\n",
    "#       (2.5 points)                                              #\n",
    "#################################################################\n",
    "\n",
    "def transform_face(image, eyes):\n",
    "    \"\"\" Your implementation \"\"\"     \n",
    "    return image"
   ]
  },
  {
   "cell_type": "code",
   "execution_count": null,
   "metadata": {},
   "outputs": [],
   "source": [
    "transformed_imgs = []\n",
    "for i in faces:\n",
    "    img = faces[i]\n",
    "    eye = eyes[i]\n",
    "    transformed = transform_face(img, eye)\n",
    "    transformed_imgs.append(transformed)\n",
    "    \n",
    "visualize(transformed_imgs)"
   ]
  },
  {
   "cell_type": "code",
   "execution_count": null,
   "metadata": {},
   "outputs": [],
   "source": []
  }
 ],
 "metadata": {
  "kernelspec": {
   "display_name": "Python 3",
   "language": "python",
   "name": "python3"
  },
  "language_info": {
   "codemirror_mode": {
    "name": "ipython",
    "version": 3
   },
   "file_extension": ".py",
   "mimetype": "text/x-python",
   "name": "python",
   "nbconvert_exporter": "python",
   "pygments_lexer": "ipython3",
   "version": "3.5.2"
  }
 },
 "nbformat": 4,
 "nbformat_minor": 2
}
